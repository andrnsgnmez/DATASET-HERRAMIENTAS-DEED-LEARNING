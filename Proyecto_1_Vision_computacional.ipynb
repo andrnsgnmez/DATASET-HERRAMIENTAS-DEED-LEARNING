{
  "nbformat": 4,
  "nbformat_minor": 0,
  "metadata": {
    "colab": {
      "provenance": [],
      "include_colab_link": true
    },
    "kernelspec": {
      "name": "python3",
      "display_name": "Python 3"
    },
    "language_info": {
      "name": "python"
    }
  },
  "cells": [
    {
      "cell_type": "markdown",
      "metadata": {
        "id": "view-in-github",
        "colab_type": "text"
      },
      "source": [
        "<a href=\"https://colab.research.google.com/github/andrnsgnmez/DATASET-HERRAMIENTAS-DEEP-LEARNING/blob/main/Proyecto_1_Vision_computacional.ipynb\" target=\"_parent\"><img src=\"https://colab.research.google.com/assets/colab-badge.svg\" alt=\"Open In Colab\"/></a>"
      ]
    },
    {
      "cell_type": "code",
      "source": [
        "! git clone https://github.com/andrnsgnmez/DATASET-HERRAMIENTAS-DEED-LEARNING.git"
      ],
      "metadata": {
        "id": "GpB8pUEaDlNw",
        "colab": {
          "base_uri": "https://localhost:8080/"
        },
        "outputId": "8f69c27d-42ba-4bc5-f298-ce78bba1f680"
      },
      "execution_count": null,
      "outputs": [
        {
          "output_type": "stream",
          "name": "stdout",
          "text": [
            "Cloning into 'DATASET-HERRAMIENTAS-DEED-LEARNING'...\n",
            "remote: Enumerating objects: 311, done.\u001b[K\n",
            "remote: Total 311 (delta 0), reused 0 (delta 0), pack-reused 311 (from 1)\u001b[K\n",
            "Receiving objects: 100% (311/311), 864.39 MiB | 23.13 MiB/s, done.\n",
            "Resolving deltas: 100% (6/6), done.\n",
            "Updating files: 100% (282/282), done.\n"
          ]
        }
      ]
    },
    {
      "cell_type": "code",
      "source": [
        "!pip install tensorflow==2.15"
      ],
      "metadata": {
        "colab": {
          "base_uri": "https://localhost:8080/",
          "height": 1000
        },
        "id": "z-t8QtBA4JSb",
        "outputId": "21b2794a-82f1-4fa5-a5f9-5b8f9dd35d83"
      },
      "execution_count": null,
      "outputs": [
        {
          "output_type": "stream",
          "name": "stdout",
          "text": [
            "Collecting tensorflow==2.15\n",
            "  Downloading tensorflow-2.15.0-cp310-cp310-manylinux_2_17_x86_64.manylinux2014_x86_64.whl.metadata (4.4 kB)\n",
            "Requirement already satisfied: absl-py>=1.0.0 in /usr/local/lib/python3.10/dist-packages (from tensorflow==2.15) (1.4.0)\n",
            "Requirement already satisfied: astunparse>=1.6.0 in /usr/local/lib/python3.10/dist-packages (from tensorflow==2.15) (1.6.3)\n",
            "Requirement already satisfied: flatbuffers>=23.5.26 in /usr/local/lib/python3.10/dist-packages (from tensorflow==2.15) (24.3.25)\n",
            "Requirement already satisfied: gast!=0.5.0,!=0.5.1,!=0.5.2,>=0.2.1 in /usr/local/lib/python3.10/dist-packages (from tensorflow==2.15) (0.6.0)\n",
            "Requirement already satisfied: google-pasta>=0.1.1 in /usr/local/lib/python3.10/dist-packages (from tensorflow==2.15) (0.2.0)\n",
            "Requirement already satisfied: h5py>=2.9.0 in /usr/local/lib/python3.10/dist-packages (from tensorflow==2.15) (3.11.0)\n",
            "Requirement already satisfied: libclang>=13.0.0 in /usr/local/lib/python3.10/dist-packages (from tensorflow==2.15) (18.1.1)\n",
            "Collecting ml-dtypes~=0.2.0 (from tensorflow==2.15)\n",
            "  Downloading ml_dtypes-0.2.0-cp310-cp310-manylinux_2_17_x86_64.manylinux2014_x86_64.whl.metadata (20 kB)\n",
            "Requirement already satisfied: numpy<2.0.0,>=1.23.5 in /usr/local/lib/python3.10/dist-packages (from tensorflow==2.15) (1.26.4)\n",
            "Requirement already satisfied: opt-einsum>=2.3.2 in /usr/local/lib/python3.10/dist-packages (from tensorflow==2.15) (3.4.0)\n",
            "Requirement already satisfied: packaging in /usr/local/lib/python3.10/dist-packages (from tensorflow==2.15) (24.1)\n",
            "Requirement already satisfied: protobuf!=4.21.0,!=4.21.1,!=4.21.2,!=4.21.3,!=4.21.4,!=4.21.5,<5.0.0dev,>=3.20.3 in /usr/local/lib/python3.10/dist-packages (from tensorflow==2.15) (3.20.3)\n",
            "Requirement already satisfied: setuptools in /usr/local/lib/python3.10/dist-packages (from tensorflow==2.15) (75.1.0)\n",
            "Requirement already satisfied: six>=1.12.0 in /usr/local/lib/python3.10/dist-packages (from tensorflow==2.15) (1.16.0)\n",
            "Requirement already satisfied: termcolor>=1.1.0 in /usr/local/lib/python3.10/dist-packages (from tensorflow==2.15) (2.5.0)\n",
            "Requirement already satisfied: typing-extensions>=3.6.6 in /usr/local/lib/python3.10/dist-packages (from tensorflow==2.15) (4.12.2)\n",
            "Collecting wrapt<1.15,>=1.11.0 (from tensorflow==2.15)\n",
            "  Downloading wrapt-1.14.1-cp310-cp310-manylinux_2_5_x86_64.manylinux1_x86_64.manylinux_2_17_x86_64.manylinux2014_x86_64.whl.metadata (6.7 kB)\n",
            "Requirement already satisfied: tensorflow-io-gcs-filesystem>=0.23.1 in /usr/local/lib/python3.10/dist-packages (from tensorflow==2.15) (0.37.1)\n",
            "Requirement already satisfied: grpcio<2.0,>=1.24.3 in /usr/local/lib/python3.10/dist-packages (from tensorflow==2.15) (1.64.1)\n",
            "Collecting tensorboard<2.16,>=2.15 (from tensorflow==2.15)\n",
            "  Downloading tensorboard-2.15.2-py3-none-any.whl.metadata (1.7 kB)\n",
            "Collecting tensorflow-estimator<2.16,>=2.15.0 (from tensorflow==2.15)\n",
            "  Downloading tensorflow_estimator-2.15.0-py2.py3-none-any.whl.metadata (1.3 kB)\n",
            "Collecting keras<2.16,>=2.15.0 (from tensorflow==2.15)\n",
            "  Downloading keras-2.15.0-py3-none-any.whl.metadata (2.4 kB)\n",
            "Requirement already satisfied: wheel<1.0,>=0.23.0 in /usr/local/lib/python3.10/dist-packages (from astunparse>=1.6.0->tensorflow==2.15) (0.44.0)\n",
            "Requirement already satisfied: google-auth<3,>=1.6.3 in /usr/local/lib/python3.10/dist-packages (from tensorboard<2.16,>=2.15->tensorflow==2.15) (2.27.0)\n",
            "Requirement already satisfied: google-auth-oauthlib<2,>=0.5 in /usr/local/lib/python3.10/dist-packages (from tensorboard<2.16,>=2.15->tensorflow==2.15) (1.2.1)\n",
            "Requirement already satisfied: markdown>=2.6.8 in /usr/local/lib/python3.10/dist-packages (from tensorboard<2.16,>=2.15->tensorflow==2.15) (3.7)\n",
            "Requirement already satisfied: requests<3,>=2.21.0 in /usr/local/lib/python3.10/dist-packages (from tensorboard<2.16,>=2.15->tensorflow==2.15) (2.32.3)\n",
            "Requirement already satisfied: tensorboard-data-server<0.8.0,>=0.7.0 in /usr/local/lib/python3.10/dist-packages (from tensorboard<2.16,>=2.15->tensorflow==2.15) (0.7.2)\n",
            "Requirement already satisfied: werkzeug>=1.0.1 in /usr/local/lib/python3.10/dist-packages (from tensorboard<2.16,>=2.15->tensorflow==2.15) (3.0.6)\n",
            "Requirement already satisfied: cachetools<6.0,>=2.0.0 in /usr/local/lib/python3.10/dist-packages (from google-auth<3,>=1.6.3->tensorboard<2.16,>=2.15->tensorflow==2.15) (5.5.0)\n",
            "Requirement already satisfied: pyasn1-modules>=0.2.1 in /usr/local/lib/python3.10/dist-packages (from google-auth<3,>=1.6.3->tensorboard<2.16,>=2.15->tensorflow==2.15) (0.4.1)\n",
            "Requirement already satisfied: rsa<5,>=3.1.4 in /usr/local/lib/python3.10/dist-packages (from google-auth<3,>=1.6.3->tensorboard<2.16,>=2.15->tensorflow==2.15) (4.9)\n",
            "Requirement already satisfied: requests-oauthlib>=0.7.0 in /usr/local/lib/python3.10/dist-packages (from google-auth-oauthlib<2,>=0.5->tensorboard<2.16,>=2.15->tensorflow==2.15) (1.3.1)\n",
            "Requirement already satisfied: charset-normalizer<4,>=2 in /usr/local/lib/python3.10/dist-packages (from requests<3,>=2.21.0->tensorboard<2.16,>=2.15->tensorflow==2.15) (3.4.0)\n",
            "Requirement already satisfied: idna<4,>=2.5 in /usr/local/lib/python3.10/dist-packages (from requests<3,>=2.21.0->tensorboard<2.16,>=2.15->tensorflow==2.15) (3.10)\n",
            "Requirement already satisfied: urllib3<3,>=1.21.1 in /usr/local/lib/python3.10/dist-packages (from requests<3,>=2.21.0->tensorboard<2.16,>=2.15->tensorflow==2.15) (2.2.3)\n",
            "Requirement already satisfied: certifi>=2017.4.17 in /usr/local/lib/python3.10/dist-packages (from requests<3,>=2.21.0->tensorboard<2.16,>=2.15->tensorflow==2.15) (2024.8.30)\n",
            "Requirement already satisfied: MarkupSafe>=2.1.1 in /usr/local/lib/python3.10/dist-packages (from werkzeug>=1.0.1->tensorboard<2.16,>=2.15->tensorflow==2.15) (3.0.2)\n",
            "Requirement already satisfied: pyasn1<0.7.0,>=0.4.6 in /usr/local/lib/python3.10/dist-packages (from pyasn1-modules>=0.2.1->google-auth<3,>=1.6.3->tensorboard<2.16,>=2.15->tensorflow==2.15) (0.6.1)\n",
            "Requirement already satisfied: oauthlib>=3.0.0 in /usr/local/lib/python3.10/dist-packages (from requests-oauthlib>=0.7.0->google-auth-oauthlib<2,>=0.5->tensorboard<2.16,>=2.15->tensorflow==2.15) (3.2.2)\n",
            "Downloading tensorflow-2.15.0-cp310-cp310-manylinux_2_17_x86_64.manylinux2014_x86_64.whl (475.2 MB)\n",
            "\u001b[2K   \u001b[90m━━━━━━━━━━━━━━━━━━━━━━━━━━━━━━━━━━━━━━━━\u001b[0m \u001b[32m475.2/475.2 MB\u001b[0m \u001b[31m3.6 MB/s\u001b[0m eta \u001b[36m0:00:00\u001b[0m\n",
            "\u001b[?25hDownloading keras-2.15.0-py3-none-any.whl (1.7 MB)\n",
            "\u001b[2K   \u001b[90m━━━━━━━━━━━━━━━━━━━━━━━━━━━━━━━━━━━━━━━━\u001b[0m \u001b[32m1.7/1.7 MB\u001b[0m \u001b[31m70.5 MB/s\u001b[0m eta \u001b[36m0:00:00\u001b[0m\n",
            "\u001b[?25hDownloading ml_dtypes-0.2.0-cp310-cp310-manylinux_2_17_x86_64.manylinux2014_x86_64.whl (1.0 MB)\n",
            "\u001b[2K   \u001b[90m━━━━━━━━━━━━━━━━━━━━━━━━━━━━━━━━━━━━━━━━\u001b[0m \u001b[32m1.0/1.0 MB\u001b[0m \u001b[31m60.9 MB/s\u001b[0m eta \u001b[36m0:00:00\u001b[0m\n",
            "\u001b[?25hDownloading tensorboard-2.15.2-py3-none-any.whl (5.5 MB)\n",
            "\u001b[2K   \u001b[90m━━━━━━━━━━━━━━━━━━━━━━━━━━━━━━━━━━━━━━━━\u001b[0m \u001b[32m5.5/5.5 MB\u001b[0m \u001b[31m100.0 MB/s\u001b[0m eta \u001b[36m0:00:00\u001b[0m\n",
            "\u001b[?25hDownloading tensorflow_estimator-2.15.0-py2.py3-none-any.whl (441 kB)\n",
            "\u001b[2K   \u001b[90m━━━━━━━━━━━━━━━━━━━━━━━━━━━━━━━━━━━━━━━━\u001b[0m \u001b[32m442.0/442.0 kB\u001b[0m \u001b[31m32.7 MB/s\u001b[0m eta \u001b[36m0:00:00\u001b[0m\n",
            "\u001b[?25hDownloading wrapt-1.14.1-cp310-cp310-manylinux_2_5_x86_64.manylinux1_x86_64.manylinux_2_17_x86_64.manylinux2014_x86_64.whl (77 kB)\n",
            "\u001b[2K   \u001b[90m━━━━━━━━━━━━━━━━━━━━━━━━━━━━━━━━━━━━━━━━\u001b[0m \u001b[32m77.9/77.9 kB\u001b[0m \u001b[31m8.5 MB/s\u001b[0m eta \u001b[36m0:00:00\u001b[0m\n",
            "\u001b[?25hInstalling collected packages: wrapt, tensorflow-estimator, ml-dtypes, keras, tensorboard, tensorflow\n",
            "  Attempting uninstall: wrapt\n",
            "    Found existing installation: wrapt 1.16.0\n",
            "    Uninstalling wrapt-1.16.0:\n",
            "      Successfully uninstalled wrapt-1.16.0\n",
            "  Attempting uninstall: ml-dtypes\n",
            "    Found existing installation: ml-dtypes 0.4.1\n",
            "    Uninstalling ml-dtypes-0.4.1:\n",
            "      Successfully uninstalled ml-dtypes-0.4.1\n",
            "  Attempting uninstall: keras\n",
            "    Found existing installation: keras 3.4.1\n",
            "    Uninstalling keras-3.4.1:\n",
            "      Successfully uninstalled keras-3.4.1\n",
            "  Attempting uninstall: tensorboard\n",
            "    Found existing installation: tensorboard 2.17.0\n",
            "    Uninstalling tensorboard-2.17.0:\n",
            "      Successfully uninstalled tensorboard-2.17.0\n",
            "  Attempting uninstall: tensorflow\n",
            "    Found existing installation: tensorflow 2.17.0\n",
            "    Uninstalling tensorflow-2.17.0:\n",
            "      Successfully uninstalled tensorflow-2.17.0\n",
            "\u001b[31mERROR: pip's dependency resolver does not currently take into account all the packages that are installed. This behaviour is the source of the following dependency conflicts.\n",
            "tensorstore 0.1.67 requires ml-dtypes>=0.3.1, but you have ml-dtypes 0.2.0 which is incompatible.\n",
            "tf-keras 2.17.0 requires tensorflow<2.18,>=2.17, but you have tensorflow 2.15.0 which is incompatible.\u001b[0m\u001b[31m\n",
            "\u001b[0mSuccessfully installed keras-2.15.0 ml-dtypes-0.2.0 tensorboard-2.15.2 tensorflow-2.15.0 tensorflow-estimator-2.15.0 wrapt-1.14.1\n"
          ]
        },
        {
          "output_type": "display_data",
          "data": {
            "application/vnd.colab-display-data+json": {
              "pip_warning": {
                "packages": [
                  "wrapt"
                ]
              },
              "id": "5f2f4190c13a46f0bb5038a50f66366f"
            }
          },
          "metadata": {}
        }
      ]
    },
    {
      "cell_type": "code",
      "execution_count": null,
      "metadata": {
        "id": "aRl01kETzb0W"
      },
      "outputs": [],
      "source": [
        "import numpy as np\n",
        "import pandas as pd\n",
        "import matplotlib.pyplot as plt\n",
        "import tensorflow as tf\n",
        "from tensorflow import keras\n",
        "from tensorflow.keras import layers, Sequential\n",
        "from tensorflow.keras.preprocessing.image import ImageDataGenerator\n",
        "from tensorflow.keras.layers import Input, Dense, Conv2D, MaxPooling2D, Flatten,Dropout\n",
        "from tensorflow.keras.models import Model\n",
        "from tensorflow.keras.utils import plot_model\n",
        "from sklearn.metrics import confusion_matrix, ConfusionMatrixDisplay , classification_report\n",
        "from PIL import Image\n",
        "import os\n",
        "import cv2"
      ]
    },
    {
      "cell_type": "code",
      "source": [
        "tf.__version__"
      ],
      "metadata": {
        "colab": {
          "base_uri": "https://localhost:8080/",
          "height": 36
        },
        "id": "tm6iI15K3KXd",
        "outputId": "0aecd058-9ce6-47ad-daaa-8340640e53f5"
      },
      "execution_count": null,
      "outputs": [
        {
          "output_type": "execute_result",
          "data": {
            "text/plain": [
              "'2.15.0'"
            ],
            "application/vnd.google.colaboratory.intrinsic+json": {
              "type": "string"
            }
          },
          "metadata": {},
          "execution_count": 2
        }
      ]
    },
    {
      "cell_type": "code",
      "source": [
        "train_path = '/content/DATASET-HERRAMIENTAS-DEED-LEARNING/DATASET/train'\n",
        "test_path = '/content/DATASET-HERRAMIENTAS-DEED-LEARNING/DATASET/test'"
      ],
      "metadata": {
        "id": "rTwVALX-4rhh"
      },
      "execution_count": null,
      "outputs": []
    },
    {
      "cell_type": "code",
      "source": [
        "# Rutas a las carpetas de imágenes\n",
        "train_path = '/content/DATASET-HERRAMIENTAS-DEED-LEARNING/DATASET/train/Destornillador'\n",
        "test_path = '/content/DATASET-HERRAMIENTAS-DEED-LEARNING/DATASET/test/Destornillador'\n",
        "\n",
        "# Función para obtener tamaños de imágenes en una carpeta\n",
        "def get_image_sizes(folder_path):\n",
        "    image_sizes = []\n",
        "    for root, dirs, files in os.walk(folder_path):\n",
        "        for file in files:\n",
        "            # Verifica si el archivo es una imagen\n",
        "            if file.endswith(('jpg', 'jpeg', 'png')):\n",
        "                image_path = os.path.join(root, file)\n",
        "                with Image.open(image_path) as img:\n",
        "                    width, height = img.size\n",
        "                    image_sizes.append((file, width, height))\n",
        "                    print(f\"Imagen: {file} - Ancho: {width}, Alto: {height}\")\n",
        "    return image_sizes\n",
        "\n",
        "# Obtener tamaños de imágenes en las carpetas de entrenamiento y prueba\n",
        "train_image_sizes = get_image_sizes(train_path)\n",
        "test_image_sizes = get_image_sizes(test_path)\n",
        "\n",
        "# Opcional: imprime el tamaño más común o estadística general para el conjunto de entrenamiento\n",
        "if train_image_sizes:\n",
        "    unique_train_sizes = set((width, height) for _, width, height in train_image_sizes)\n",
        "    print(\"\\nTamaños únicos de las imágenes en el dataset de entrenamiento:\")\n",
        "    for size in unique_train_sizes:\n",
        "        print(f\"Tamaño: {size}\")\n",
        "else:\n",
        "    print(\"No se encontraron imágenes en el dataset de entrenamiento.\")\n",
        "\n",
        "# Opcional: imprime el tamaño más común o estadística general para el conjunto de prueba\n",
        "if test_image_sizes:\n",
        "    unique_test_sizes = set((width, height) for _, width, height in test_image_sizes)\n",
        "    print(\"\\nTamaños únicos de las imágenes en el dataset de prueba:\")\n",
        "    for size in unique_test_sizes:\n",
        "        print(f\"Tamaño: {size}\")\n",
        "else:\n",
        "    print(\"No se encontraron imágenes en el dataset de prueba.\")\n"
      ],
      "metadata": {
        "id": "wrtJmc8Q_V7S",
        "colab": {
          "base_uri": "https://localhost:8080/"
        },
        "outputId": "fced84cd-de54-4b9d-fd7a-bab6701e097b"
      },
      "execution_count": null,
      "outputs": [
        {
          "output_type": "stream",
          "name": "stdout",
          "text": [
            "Imagen: 20231112_202253.jpg - Ancho: 3456, Alto: 3456\n",
            "Imagen: 20231112_201737.jpg - Ancho: 3456, Alto: 3456\n",
            "Imagen: 20231112_201504.jpg - Ancho: 3456, Alto: 3456\n",
            "Imagen: 20231112_202025.jpg - Ancho: 3456, Alto: 3456\n",
            "Imagen: 20231112_202248.jpg - Ancho: 3456, Alto: 3456\n",
            "Imagen: 20231112_201646.jpg - Ancho: 3456, Alto: 3456\n",
            "Imagen: 20231112_202117.jpg - Ancho: 3456, Alto: 3456\n",
            "Imagen: 20231112_201734.jpg - Ancho: 3456, Alto: 3456\n",
            "Imagen: 20231112_202518.jpg - Ancho: 3456, Alto: 3456\n",
            "Imagen: 20231112_202309.jpg - Ancho: 3456, Alto: 3456\n",
            "Imagen: 20231112_202236.jpg - Ancho: 3456, Alto: 3456\n",
            "Imagen: 20231112_202400.jpg - Ancho: 3456, Alto: 3456\n",
            "Imagen: 20231112_201714.jpg - Ancho: 3456, Alto: 3456\n",
            "Imagen: 20231112_202540.jpg - Ancho: 3456, Alto: 3456\n",
            "Imagen: 20231112_201437.jpg - Ancho: 3456, Alto: 3456\n",
            "Imagen: 20231112_202438.jpg - Ancho: 3456, Alto: 3456\n",
            "Imagen: 20231112_202459.jpg - Ancho: 3456, Alto: 3456\n",
            "Imagen: 20231112_202456.jpg - Ancho: 3456, Alto: 3456\n",
            "Imagen: 20231112_202028.jpg - Ancho: 3456, Alto: 3456\n",
            "Imagen: 20231112_202413.jpg - Ancho: 3456, Alto: 3456\n",
            "Imagen: 20231112_201730.jpg - Ancho: 3456, Alto: 3456\n",
            "Imagen: 20231112_202231.jpg - Ancho: 3456, Alto: 3456\n",
            "Imagen: 20231112_202317.jpg - Ancho: 3456, Alto: 3456\n",
            "Imagen: 20231112_202406.jpg - Ancho: 3456, Alto: 3456\n",
            "Imagen: 20231112_202035.jpg - Ancho: 3456, Alto: 3456\n",
            "Imagen: 20231112_202523.jpg - Ancho: 3456, Alto: 3456\n",
            "Imagen: 20231112_201510.jpg - Ancho: 3456, Alto: 3456\n",
            "Imagen: 20231112_201959.jpg - Ancho: 3456, Alto: 3456\n",
            "Imagen: 20231112_201926.jpg - Ancho: 3456, Alto: 3456\n",
            "Imagen: 20231112_202302.jpg - Ancho: 3456, Alto: 3456\n",
            "Imagen: 20231112_201500.jpg - Ancho: 3456, Alto: 3456\n",
            "Imagen: 20231112_201758.jpg - Ancho: 3456, Alto: 3456\n",
            "Imagen: 20231112_202141.jpg - Ancho: 3456, Alto: 3456\n",
            "Imagen: 20231112_201727.jpg - Ancho: 3456, Alto: 3456\n",
            "Imagen: 20231112_202445.jpg - Ancho: 3456, Alto: 3456\n",
            "Imagen: 20231112_201931.jpg - Ancho: 3456, Alto: 3456\n",
            "Imagen: 20231112_202139.jpg - Ancho: 3456, Alto: 3456\n",
            "Imagen: 20231112_201707.jpg - Ancho: 3456, Alto: 3456\n",
            "Imagen: 20231112_202316.jpg - Ancho: 3456, Alto: 3456\n",
            "Imagen: 20231112_201700.jpg - Ancho: 3456, Alto: 3456\n",
            "Imagen: 20231112_202504.jpg - Ancho: 3456, Alto: 3456\n",
            "Imagen: 20231112_202356.jpg - Ancho: 3456, Alto: 3456\n",
            "Imagen: 20231112_201755.jpg - Ancho: 3456, Alto: 3456\n",
            "Imagen: 20231112_202033.jpg - Ancho: 3456, Alto: 3456\n",
            "Imagen: 20231112_201752.jpg - Ancho: 3456, Alto: 3456\n",
            "Imagen: 20231112_202426.jpg - Ancho: 3456, Alto: 3456\n",
            "Imagen: 20231112_202250.jpg - Ancho: 3456, Alto: 3456\n",
            "Imagen: 20231112_201523.jpg - Ancho: 3456, Alto: 3456\n",
            "Imagen: 20231112_202113.jpg - Ancho: 3456, Alto: 3456\n",
            "Imagen: 20231112_202508.jpg - Ancho: 3456, Alto: 3456\n",
            "Imagen: 20231112_201430.jpg - Ancho: 3456, Alto: 3456\n",
            "Imagen: 20231112_201808.jpg - Ancho: 3456, Alto: 3456\n",
            "Imagen: 20231112_202149.jpg - Ancho: 3456, Alto: 3456\n",
            "Imagen: 20231112_202552.jpg - Ancho: 3456, Alto: 3456\n",
            "Imagen: 20231112_202544.jpg - Ancho: 3456, Alto: 3456\n",
            "Imagen: 20231112_202542.jpg - Ancho: 3456, Alto: 3456\n",
            "\n",
            "Tamaños únicos de las imágenes en el dataset de entrenamiento:\n",
            "Tamaño: (3456, 3456)\n",
            "\n",
            "Tamaños únicos de las imágenes en el dataset de prueba:\n",
            "Tamaño: (3456, 3456)\n"
          ]
        }
      ]
    },
    {
      "cell_type": "code",
      "source": [
        "# parametros\n",
        "img_height , img_width = 224 , 224\n",
        "batch_size = 32\n",
        "\n",
        "train_datagen = ImageDataGenerator(rescale = 1.0/255 , rotation_range = 20 , width_shift_range = 0.2 , height_shift_range = 0.2 , shear_range = 0.2 , zoom_range = 0.2 , horizontal_flip = True , fill_mode = 'nearest')\n",
        "validation_datagen = ImageDataGenerator(rescale = 1.0/255)\n",
        "\n",
        "train_generator = train_datagen.flow_from_directory(train_path , target_size = (img_hei))"
      ],
      "metadata": {
        "id": "m8dC6cs6AmPH"
      },
      "execution_count": null,
      "outputs": []
    }
  ]
}